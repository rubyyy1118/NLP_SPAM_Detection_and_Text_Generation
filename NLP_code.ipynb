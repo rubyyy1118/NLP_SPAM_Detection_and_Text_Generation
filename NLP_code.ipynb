{
  "nbformat": 4,
  "nbformat_minor": 0,
  "metadata": {
    "colab": {
      "provenance": []
    },
    "kernelspec": {
      "name": "python3",
      "display_name": "Python 3"
    },
    "language_info": {
      "name": "python"
    }
  },
  "cells": [
    {
      "cell_type": "code",
      "execution_count": 1,
      "metadata": {
        "id": "TiiBQmNQeAmy"
      },
      "outputs": [],
      "source": [
        "import pandas as pd\n",
        "import numpy as np\n",
        "import os\n",
        "import matplotlib.pyplot as plt\n",
        "import seaborn as sn\n",
        "from sklearn.feature_extraction.text import TfidfVectorizer\n",
        "from sklearn.model_selection import train_test_split\n",
        "from sklearn import metrics\n",
        "from sklearn.metrics import confusion_matrix, classification_report, roc_curve, auc\n",
        "import time"
      ]
    },
    {
      "cell_type": "code",
      "source": [
        "from google.colab import drive\n",
        "drive.mount('/content/drive')"
      ],
      "metadata": {
        "id": "xEXsQMHXjpsk",
        "colab": {
          "base_uri": "https://localhost:8080/"
        },
        "outputId": "c9503e47-25ba-462c-c0b9-8fc84f655e58"
      },
      "execution_count": 2,
      "outputs": [
        {
          "output_type": "stream",
          "name": "stdout",
          "text": [
            "Mounted at /content/drive\n"
          ]
        }
      ]
    },
    {
      "cell_type": "markdown",
      "source": [
        "### **Preprocessing**\n",
        "\n"
      ],
      "metadata": {
        "id": "DZf_X3gvjhXN"
      }
    },
    {
      "cell_type": "code",
      "source": [
        "# Load the content into a pandas DataFrame\n",
        "data = pd.read_csv('/content/drive/My Drive/SpamVsHam.tsv',sep='\\t', header=None, names=['label', 'message'])\n",
        "# Display the first few rows of the dataframe\n",
        "data.head()"
      ],
      "metadata": {
        "colab": {
          "base_uri": "https://localhost:8080/",
          "height": 206
        },
        "id": "h8KssC81l_Rt",
        "outputId": "fa5659aa-dbff-4f3b-db41-1394fbedc987"
      },
      "execution_count": 3,
      "outputs": [
        {
          "output_type": "execute_result",
          "data": {
            "text/plain": [
              "  label                                            message\n",
              "0   ham  Go until jurong point, crazy.. Available only ...\n",
              "1   ham                      Ok lar... Joking wif u oni...\n",
              "2  spam  Free entry in 2 a wkly comp to win FA Cup fina...\n",
              "3   ham  U dun say so early hor... U c already then say...\n",
              "4   ham  Nah I don't think he goes to usf, he lives aro..."
            ],
            "text/html": [
              "\n",
              "  <div id=\"df-86a0a997-40e5-4954-a59b-495838846f24\" class=\"colab-df-container\">\n",
              "    <div>\n",
              "<style scoped>\n",
              "    .dataframe tbody tr th:only-of-type {\n",
              "        vertical-align: middle;\n",
              "    }\n",
              "\n",
              "    .dataframe tbody tr th {\n",
              "        vertical-align: top;\n",
              "    }\n",
              "\n",
              "    .dataframe thead th {\n",
              "        text-align: right;\n",
              "    }\n",
              "</style>\n",
              "<table border=\"1\" class=\"dataframe\">\n",
              "  <thead>\n",
              "    <tr style=\"text-align: right;\">\n",
              "      <th></th>\n",
              "      <th>label</th>\n",
              "      <th>message</th>\n",
              "    </tr>\n",
              "  </thead>\n",
              "  <tbody>\n",
              "    <tr>\n",
              "      <th>0</th>\n",
              "      <td>ham</td>\n",
              "      <td>Go until jurong point, crazy.. Available only ...</td>\n",
              "    </tr>\n",
              "    <tr>\n",
              "      <th>1</th>\n",
              "      <td>ham</td>\n",
              "      <td>Ok lar... Joking wif u oni...</td>\n",
              "    </tr>\n",
              "    <tr>\n",
              "      <th>2</th>\n",
              "      <td>spam</td>\n",
              "      <td>Free entry in 2 a wkly comp to win FA Cup fina...</td>\n",
              "    </tr>\n",
              "    <tr>\n",
              "      <th>3</th>\n",
              "      <td>ham</td>\n",
              "      <td>U dun say so early hor... U c already then say...</td>\n",
              "    </tr>\n",
              "    <tr>\n",
              "      <th>4</th>\n",
              "      <td>ham</td>\n",
              "      <td>Nah I don't think he goes to usf, he lives aro...</td>\n",
              "    </tr>\n",
              "  </tbody>\n",
              "</table>\n",
              "</div>\n",
              "    <div class=\"colab-df-buttons\">\n",
              "\n",
              "  <div class=\"colab-df-container\">\n",
              "    <button class=\"colab-df-convert\" onclick=\"convertToInteractive('df-86a0a997-40e5-4954-a59b-495838846f24')\"\n",
              "            title=\"Convert this dataframe to an interactive table.\"\n",
              "            style=\"display:none;\">\n",
              "\n",
              "  <svg xmlns=\"http://www.w3.org/2000/svg\" height=\"24px\" viewBox=\"0 -960 960 960\">\n",
              "    <path d=\"M120-120v-720h720v720H120Zm60-500h600v-160H180v160Zm220 220h160v-160H400v160Zm0 220h160v-160H400v160ZM180-400h160v-160H180v160Zm440 0h160v-160H620v160ZM180-180h160v-160H180v160Zm440 0h160v-160H620v160Z\"/>\n",
              "  </svg>\n",
              "    </button>\n",
              "\n",
              "  <style>\n",
              "    .colab-df-container {\n",
              "      display:flex;\n",
              "      gap: 12px;\n",
              "    }\n",
              "\n",
              "    .colab-df-convert {\n",
              "      background-color: #E8F0FE;\n",
              "      border: none;\n",
              "      border-radius: 50%;\n",
              "      cursor: pointer;\n",
              "      display: none;\n",
              "      fill: #1967D2;\n",
              "      height: 32px;\n",
              "      padding: 0 0 0 0;\n",
              "      width: 32px;\n",
              "    }\n",
              "\n",
              "    .colab-df-convert:hover {\n",
              "      background-color: #E2EBFA;\n",
              "      box-shadow: 0px 1px 2px rgba(60, 64, 67, 0.3), 0px 1px 3px 1px rgba(60, 64, 67, 0.15);\n",
              "      fill: #174EA6;\n",
              "    }\n",
              "\n",
              "    .colab-df-buttons div {\n",
              "      margin-bottom: 4px;\n",
              "    }\n",
              "\n",
              "    [theme=dark] .colab-df-convert {\n",
              "      background-color: #3B4455;\n",
              "      fill: #D2E3FC;\n",
              "    }\n",
              "\n",
              "    [theme=dark] .colab-df-convert:hover {\n",
              "      background-color: #434B5C;\n",
              "      box-shadow: 0px 1px 3px 1px rgba(0, 0, 0, 0.15);\n",
              "      filter: drop-shadow(0px 1px 2px rgba(0, 0, 0, 0.3));\n",
              "      fill: #FFFFFF;\n",
              "    }\n",
              "  </style>\n",
              "\n",
              "    <script>\n",
              "      const buttonEl =\n",
              "        document.querySelector('#df-86a0a997-40e5-4954-a59b-495838846f24 button.colab-df-convert');\n",
              "      buttonEl.style.display =\n",
              "        google.colab.kernel.accessAllowed ? 'block' : 'none';\n",
              "\n",
              "      async function convertToInteractive(key) {\n",
              "        const element = document.querySelector('#df-86a0a997-40e5-4954-a59b-495838846f24');\n",
              "        const dataTable =\n",
              "          await google.colab.kernel.invokeFunction('convertToInteractive',\n",
              "                                                    [key], {});\n",
              "        if (!dataTable) return;\n",
              "\n",
              "        const docLinkHtml = 'Like what you see? Visit the ' +\n",
              "          '<a target=\"_blank\" href=https://colab.research.google.com/notebooks/data_table.ipynb>data table notebook</a>'\n",
              "          + ' to learn more about interactive tables.';\n",
              "        element.innerHTML = '';\n",
              "        dataTable['output_type'] = 'display_data';\n",
              "        await google.colab.output.renderOutput(dataTable, element);\n",
              "        const docLink = document.createElement('div');\n",
              "        docLink.innerHTML = docLinkHtml;\n",
              "        element.appendChild(docLink);\n",
              "      }\n",
              "    </script>\n",
              "  </div>\n",
              "\n",
              "\n",
              "<div id=\"df-633727e0-d75e-4e0f-a490-fd0703462ed8\">\n",
              "  <button class=\"colab-df-quickchart\" onclick=\"quickchart('df-633727e0-d75e-4e0f-a490-fd0703462ed8')\"\n",
              "            title=\"Suggest charts\"\n",
              "            style=\"display:none;\">\n",
              "\n",
              "<svg xmlns=\"http://www.w3.org/2000/svg\" height=\"24px\"viewBox=\"0 0 24 24\"\n",
              "     width=\"24px\">\n",
              "    <g>\n",
              "        <path d=\"M19 3H5c-1.1 0-2 .9-2 2v14c0 1.1.9 2 2 2h14c1.1 0 2-.9 2-2V5c0-1.1-.9-2-2-2zM9 17H7v-7h2v7zm4 0h-2V7h2v10zm4 0h-2v-4h2v4z\"/>\n",
              "    </g>\n",
              "</svg>\n",
              "  </button>\n",
              "\n",
              "<style>\n",
              "  .colab-df-quickchart {\n",
              "      --bg-color: #E8F0FE;\n",
              "      --fill-color: #1967D2;\n",
              "      --hover-bg-color: #E2EBFA;\n",
              "      --hover-fill-color: #174EA6;\n",
              "      --disabled-fill-color: #AAA;\n",
              "      --disabled-bg-color: #DDD;\n",
              "  }\n",
              "\n",
              "  [theme=dark] .colab-df-quickchart {\n",
              "      --bg-color: #3B4455;\n",
              "      --fill-color: #D2E3FC;\n",
              "      --hover-bg-color: #434B5C;\n",
              "      --hover-fill-color: #FFFFFF;\n",
              "      --disabled-bg-color: #3B4455;\n",
              "      --disabled-fill-color: #666;\n",
              "  }\n",
              "\n",
              "  .colab-df-quickchart {\n",
              "    background-color: var(--bg-color);\n",
              "    border: none;\n",
              "    border-radius: 50%;\n",
              "    cursor: pointer;\n",
              "    display: none;\n",
              "    fill: var(--fill-color);\n",
              "    height: 32px;\n",
              "    padding: 0;\n",
              "    width: 32px;\n",
              "  }\n",
              "\n",
              "  .colab-df-quickchart:hover {\n",
              "    background-color: var(--hover-bg-color);\n",
              "    box-shadow: 0 1px 2px rgba(60, 64, 67, 0.3), 0 1px 3px 1px rgba(60, 64, 67, 0.15);\n",
              "    fill: var(--button-hover-fill-color);\n",
              "  }\n",
              "\n",
              "  .colab-df-quickchart-complete:disabled,\n",
              "  .colab-df-quickchart-complete:disabled:hover {\n",
              "    background-color: var(--disabled-bg-color);\n",
              "    fill: var(--disabled-fill-color);\n",
              "    box-shadow: none;\n",
              "  }\n",
              "\n",
              "  .colab-df-spinner {\n",
              "    border: 2px solid var(--fill-color);\n",
              "    border-color: transparent;\n",
              "    border-bottom-color: var(--fill-color);\n",
              "    animation:\n",
              "      spin 1s steps(1) infinite;\n",
              "  }\n",
              "\n",
              "  @keyframes spin {\n",
              "    0% {\n",
              "      border-color: transparent;\n",
              "      border-bottom-color: var(--fill-color);\n",
              "      border-left-color: var(--fill-color);\n",
              "    }\n",
              "    20% {\n",
              "      border-color: transparent;\n",
              "      border-left-color: var(--fill-color);\n",
              "      border-top-color: var(--fill-color);\n",
              "    }\n",
              "    30% {\n",
              "      border-color: transparent;\n",
              "      border-left-color: var(--fill-color);\n",
              "      border-top-color: var(--fill-color);\n",
              "      border-right-color: var(--fill-color);\n",
              "    }\n",
              "    40% {\n",
              "      border-color: transparent;\n",
              "      border-right-color: var(--fill-color);\n",
              "      border-top-color: var(--fill-color);\n",
              "    }\n",
              "    60% {\n",
              "      border-color: transparent;\n",
              "      border-right-color: var(--fill-color);\n",
              "    }\n",
              "    80% {\n",
              "      border-color: transparent;\n",
              "      border-right-color: var(--fill-color);\n",
              "      border-bottom-color: var(--fill-color);\n",
              "    }\n",
              "    90% {\n",
              "      border-color: transparent;\n",
              "      border-bottom-color: var(--fill-color);\n",
              "    }\n",
              "  }\n",
              "</style>\n",
              "\n",
              "  <script>\n",
              "    async function quickchart(key) {\n",
              "      const quickchartButtonEl =\n",
              "        document.querySelector('#' + key + ' button');\n",
              "      quickchartButtonEl.disabled = true;  // To prevent multiple clicks.\n",
              "      quickchartButtonEl.classList.add('colab-df-spinner');\n",
              "      try {\n",
              "        const charts = await google.colab.kernel.invokeFunction(\n",
              "            'suggestCharts', [key], {});\n",
              "      } catch (error) {\n",
              "        console.error('Error during call to suggestCharts:', error);\n",
              "      }\n",
              "      quickchartButtonEl.classList.remove('colab-df-spinner');\n",
              "      quickchartButtonEl.classList.add('colab-df-quickchart-complete');\n",
              "    }\n",
              "    (() => {\n",
              "      let quickchartButtonEl =\n",
              "        document.querySelector('#df-633727e0-d75e-4e0f-a490-fd0703462ed8 button');\n",
              "      quickchartButtonEl.style.display =\n",
              "        google.colab.kernel.accessAllowed ? 'block' : 'none';\n",
              "    })();\n",
              "  </script>\n",
              "</div>\n",
              "    </div>\n",
              "  </div>\n"
            ],
            "application/vnd.google.colaboratory.intrinsic+json": {
              "type": "dataframe",
              "variable_name": "data",
              "summary": "{\n  \"name\": \"data\",\n  \"rows\": 5572,\n  \"fields\": [\n    {\n      \"column\": \"label\",\n      \"properties\": {\n        \"dtype\": \"category\",\n        \"num_unique_values\": 2,\n        \"samples\": [\n          \"spam\",\n          \"ham\"\n        ],\n        \"semantic_type\": \"\",\n        \"description\": \"\"\n      }\n    },\n    {\n      \"column\": \"message\",\n      \"properties\": {\n        \"dtype\": \"string\",\n        \"num_unique_values\": 5169,\n        \"samples\": [\n          \"K, makes sense, btw carlos is being difficult so you guys are gonna smoke while I go pick up the second batch and get gas\",\n          \"URGENT! Your mobile No *********** WON a \\u00a32,000 Bonus Caller Prize on 02/06/03! This is the 2nd attempt to reach YOU! Call 09066362220 ASAP! BOX97N7QP, 150ppm\"\n        ],\n        \"semantic_type\": \"\",\n        \"description\": \"\"\n      }\n    }\n  ]\n}"
            }
          },
          "metadata": {},
          "execution_count": 3
        }
      ]
    },
    {
      "cell_type": "code",
      "source": [
        "# Initialize an empty list to store the processed data\n",
        "processed_data = []\n",
        "\n",
        "# Initialize variables to store the current message and label\n",
        "current_message = []\n",
        "current_label = ''\n",
        "\n",
        "with open('/content/drive/My Drive/SpamVsHam.tsv', 'r', encoding='utf-8') as file:\n",
        "    for line in file:\n",
        "        # Check if the line starts with \"ham\\t\" or \"spam\\t\"\n",
        "        if line.startswith('ham\\t') or line.startswith('spam\\t'):\n",
        "            # If the current message is not empty, add it to the processed data\n",
        "            if current_message:\n",
        "                processed_data.append([current_label, ' '.join(current_message)])\n",
        "            # Reset the current message\n",
        "            parts = line.strip().split('\\t', 1)  # Split the label and message\n",
        "            if len(parts) == 2:  # Ensure correct splitting\n",
        "                current_label, message = parts\n",
        "                current_message = [message]  # Start new message\n",
        "        else:\n",
        "            # If the line is not the start of a new message, add it to the current message\n",
        "            current_message.append(line.strip())\n",
        "\n",
        "# Make sure the last message is added\n",
        "if current_message:\n",
        "    processed_data.append([current_label, ' '.join(current_message)])\n",
        "\n",
        "# Convert the processed data into a pandas DataFrame\n",
        "data = pd.DataFrame(processed_data, columns=['label', 'message'])\n",
        "\n",
        "data.info()"
      ],
      "metadata": {
        "id": "n0LRZqReyDJH",
        "colab": {
          "base_uri": "https://localhost:8080/"
        },
        "outputId": "0448c03e-f4ab-4f6f-d358-7acd45ad6a70"
      },
      "execution_count": 4,
      "outputs": [
        {
          "output_type": "stream",
          "name": "stdout",
          "text": [
            "<class 'pandas.core.frame.DataFrame'>\n",
            "RangeIndex: 5574 entries, 0 to 5573\n",
            "Data columns (total 2 columns):\n",
            " #   Column   Non-Null Count  Dtype \n",
            "---  ------   --------------  ----- \n",
            " 0   label    5574 non-null   object\n",
            " 1   message  5574 non-null   object\n",
            "dtypes: object(2)\n",
            "memory usage: 87.2+ KB\n"
          ]
        }
      ]
    },
    {
      "cell_type": "markdown",
      "source": [
        "**Data Cleansing** : Tokenization、Stop Words Removal、Lemmatization"
      ],
      "metadata": {
        "id": "ar5FzBw8Mhxh"
      }
    },
    {
      "cell_type": "code",
      "source": [
        "import spacy\n",
        "import re\n",
        "\n",
        "# Load the English language model once\n",
        "nlp = spacy.load('en_core_web_sm')\n",
        "\n",
        "# Function to clean and preprocess text\n",
        "def preprocess_text(text, nlp_model):\n",
        "    # Convert text to lowercase\n",
        "    text = text.lower()\n",
        "    # Remove HTML tags\n",
        "    text = re.sub(r'<.*?>', '', text)\n",
        "    # Remove special symbols and punctuation\n",
        "    text = re.sub(r'[^\\w\\s]', '', text)\n",
        "    # Replace newline characters and extra spaces\n",
        "    text = re.sub(r'\\s+', ' ', text).strip()\n",
        "\n",
        "    # Tokenization, remove stopwords, and perform lemmatization\n",
        "    doc = nlp_model(text)\n",
        "    tokens = [token.lemma_ for token in doc if not token.is_stop]\n",
        "\n",
        "    return tokens\n",
        "\n",
        "# Apply the preprocessing function to each message\n",
        "data['processed'] = data['message'].apply(lambda x: preprocess_text(x, nlp))\n"
      ],
      "metadata": {
        "id": "LxU6rXboNEDu"
      },
      "execution_count": 5,
      "outputs": []
    },
    {
      "cell_type": "markdown",
      "source": [
        "**Splitting Data**"
      ],
      "metadata": {
        "id": "9lb4jBTuQ3kQ"
      }
    },
    {
      "cell_type": "code",
      "source": [
        "X = data['processed'] #features\n",
        "y = data['label']   #labels"
      ],
      "metadata": {
        "id": "TGYa8HPXpdBC"
      },
      "execution_count": 6,
      "outputs": []
    },
    {
      "cell_type": "code",
      "source": [
        "X_train, X_test, y_train, y_test = train_test_split(X, y, test_size=0.2, random_state=42)\n",
        "X_train, X_val, y_train, y_val = train_test_split(X_train, y_train, test_size=0.25, random_state=42)"
      ],
      "metadata": {
        "id": "ogJzcQbk8Nfz"
      },
      "execution_count": 7,
      "outputs": []
    },
    {
      "cell_type": "markdown",
      "source": [
        "### **Vectorization**"
      ],
      "metadata": {
        "id": "gVQylR7as6Zy"
      }
    },
    {
      "cell_type": "markdown",
      "source": [
        "1. TF-IDF\n",
        "\n"
      ],
      "metadata": {
        "id": "gqJ74IBYtHZP"
      }
    },
    {
      "cell_type": "code",
      "source": [
        "# Initialize the TfidfVectorizer\n",
        "vectorizer = TfidfVectorizer(analyzer='word', token_pattern=None, tokenizer=lambda doc: doc, preprocessor=lambda doc: doc, ngram_range=(1, 2), min_df=3)\n",
        "\n",
        "# Fit and transform the training data to a document-term matrix\n",
        "X_train_tfidf = vectorizer.fit_transform(X_train)\n",
        "\n",
        "# Transform the validation and test sets\n",
        "X_val_tfidf = vectorizer.transform(X_val)\n",
        "X_test_tfidf = vectorizer.transform(X_test)\n"
      ],
      "metadata": {
        "id": "TztH1j1pqA1G"
      },
      "execution_count": 8,
      "outputs": []
    },
    {
      "cell_type": "markdown",
      "source": [
        "2. Word2vec"
      ],
      "metadata": {
        "id": "D3Z7HQk4wZBJ"
      }
    },
    {
      "cell_type": "code",
      "source": [
        "from gensim.models import Word2Vec\n",
        "\n",
        "# Word2Vec model\n",
        "w2v_model = Word2Vec(sentences=X_train, vector_size=200, window=5, min_count=1, workers=4)\n",
        "\n",
        "\n",
        "def generate_word_vectors(w2v_model, tokenized_documents, sequence_length=100):\n",
        "    vector_size = w2v_model.vector_size\n",
        "    features = np.zeros((len(tokenized_documents), sequence_length, vector_size), dtype=float)\n",
        "    for i, tokens in enumerate(tokenized_documents):\n",
        "        for j, token in enumerate(tokens):\n",
        "            if j >= sequence_length:\n",
        "                break\n",
        "            features[i, j, :] = w2v_model.wv[token] if token in w2v_model.wv.index_to_key else np.zeros(vector_size)\n",
        "    return features\n",
        "\n",
        "\n",
        "# Set sequence length\n",
        "sequence_length = 100\n",
        "\n",
        "# Generate word vector sequences for each document\n",
        "X_train_sequences = generate_word_vectors(w2v_model, X_train, sequence_length)\n",
        "X_val_sequences = generate_word_vectors(w2v_model, X_val, sequence_length)\n",
        "X_test_sequences = generate_word_vectors(w2v_model, X_test, sequence_length)"
      ],
      "metadata": {
        "id": "lMkdY_7uUJfX"
      },
      "execution_count": 9,
      "outputs": []
    },
    {
      "cell_type": "markdown",
      "source": [
        "### **Standard Machine Learning Model**"
      ],
      "metadata": {
        "id": "j7P6BIvg40MJ"
      }
    },
    {
      "cell_type": "markdown",
      "source": [
        "**SVM**\n",
        "\n",
        "1. TF-IDF"
      ],
      "metadata": {
        "id": "U-0eq3QdKeUF"
      }
    },
    {
      "cell_type": "code",
      "source": [
        "from sklearn.model_selection import GridSearchCV\n",
        "from sklearn.svm import SVC\n",
        "\n",
        "# Define the parameters to tune\n",
        "parameters = {\n",
        "    'C': [0.005, 0.01, 0.1, 1, 10, 100, 1000],\n",
        "    'gamma': [1, 'auto', 'scale']\n",
        "}\n",
        "\n",
        "\n",
        "start_time = time.time()\n",
        "# Tune hyperparameters  using Grid Search and a SVM model\n",
        "model_svm = GridSearchCV(SVC(kernel='rbf', probability=True), parameters, cv=5, n_jobs=-1).fit(X_train_tfidf, y_train)\n",
        "\n",
        "end_time = time.time()\n",
        "\n",
        "\n",
        "training_time = end_time - start_time\n",
        "\n",
        "print(f\"GridSearchCV completed in {training_time:.2f} seconds\")"
      ],
      "metadata": {
        "id": "ufoECZnaT2zf",
        "colab": {
          "base_uri": "https://localhost:8080/"
        },
        "outputId": "8c66cea2-b477-435d-f8d9-248755fe90d4"
      },
      "execution_count": 41,
      "outputs": [
        {
          "output_type": "stream",
          "name": "stdout",
          "text": [
            "GridSearchCV completed in 188.59 seconds\n"
          ]
        }
      ]
    },
    {
      "cell_type": "code",
      "source": [
        "print(\"Train score:\", model_svm.score(X_train_tfidf, y_train))\n",
        "print(\"Validation score:\", model_svm.score(X_val_tfidf, y_val))"
      ],
      "metadata": {
        "colab": {
          "base_uri": "https://localhost:8080/"
        },
        "id": "9be3FSYQX3yz",
        "outputId": "7ae0d178-35a8-4c2a-a812-b3b4723a4c4c"
      },
      "execution_count": null,
      "outputs": [
        {
          "output_type": "stream",
          "name": "stdout",
          "text": [
            "Train score: 0.9877392344497608\n",
            "Validation score: 0.9829596412556054\n"
          ]
        }
      ]
    },
    {
      "cell_type": "code",
      "source": [
        "# Predicting the test set results\n",
        "y_pred = model_svm.predict(X_test_tfidf)\n",
        "y_pred_prob = model_svm.predict_proba(X_test_tfidf)[:, 1]"
      ],
      "metadata": {
        "id": "aRgUHgK6QqYN"
      },
      "execution_count": null,
      "outputs": []
    },
    {
      "cell_type": "code",
      "source": [
        "# Create the confusion matrix\n",
        "def plot_confusion_matrix(y_test, y_pred):\n",
        "    ''' Plot the confusion matrix for the target labels and predictions '''\n",
        "    cm = confusion_matrix(y_test, y_pred)\n",
        "\n",
        "    # Create a dataframe with the confusion matrix values\n",
        "    df_cm = pd.DataFrame(cm, range(cm.shape[0]),\n",
        "                  range(cm.shape[1]))\n",
        "\n",
        "    # Plot the confusion matrix\n",
        "    sn.set(font_scale=1.4) # for label size\n",
        "    sn.heatmap(df_cm, annot=True,fmt='.0f',cmap=\"YlGnBu\",annot_kws={\"size\": 10}) # font size\n",
        "    plt.show()"
      ],
      "metadata": {
        "id": "Gfn6J1TTM_l_"
      },
      "execution_count": 11,
      "outputs": []
    },
    {
      "cell_type": "code",
      "source": [
        "#print the classification report to highlight the accuracy with f1-score, precision and recall\n",
        "print(metrics.classification_report(y_test, y_pred))\n",
        "plot_confusion_matrix(y_test, y_pred)"
      ],
      "metadata": {
        "colab": {
          "base_uri": "https://localhost:8080/",
          "height": 602
        },
        "id": "hy0IAxx3NDEJ",
        "outputId": "92aa3e96-2fc8-4cea-88d8-512a1be5b5a2"
      },
      "execution_count": null,
      "outputs": [
        {
          "output_type": "stream",
          "name": "stdout",
          "text": [
            "              precision    recall  f1-score   support\n",
            "\n",
            "         ham       0.98      1.00      0.99       954\n",
            "        spam       0.97      0.88      0.93       161\n",
            "\n",
            "    accuracy                           0.98      1115\n",
            "   macro avg       0.98      0.94      0.96      1115\n",
            "weighted avg       0.98      0.98      0.98      1115\n",
            "\n"
          ]
        },
        {
          "output_type": "display_data",
          "data": {
            "text/plain": [
              "<Figure size 640x480 with 2 Axes>"
            ],
            "image/png": "[encoded data removed]"
          },
          "metadata": {}
        }
      ]
    },
    {
      "cell_type": "code",
      "source": [
        "# Function to plot ROC curve\n",
        "def plot_roc_curve(fpr, tpr, roc_auc):\n",
        "    plt.figure(figsize=(8, 8))\n",
        "    plt.plot(fpr, tpr, color='blue', lw=2, label='ROC curve (area = %0.2f)' % roc_auc)\n",
        "    plt.plot([0, 1], [0, 1], color='red', lw=2, linestyle='--')\n",
        "    plt.xlim([0.0, 1.0])\n",
        "    plt.ylim([0.0, 1.05])\n",
        "    plt.xlabel('False Positive Rate')\n",
        "    plt.ylabel('True Positive Rate')\n",
        "    plt.title('Receiver Operating Characteristic')\n",
        "    plt.legend(loc=\"lower right\")\n",
        "    plt.show()\n",
        "\n",
        "\n",
        "# Assuming y_test is a list of strings representing the true labels\n",
        "y_test_binary = [1 if label == 'spam' else 0 for label in y_test]\n",
        "\n",
        "# Compute ROC curve and ROC area for the test set\n",
        "fpr, tpr, _ = roc_curve(y_test_binary, y_pred_prob)\n",
        "roc_auc = auc(fpr, tpr)\n",
        "\n",
        "# Plot ROC curve for the test set\n",
        "plot_roc_curve(fpr, tpr, roc_auc)"
      ],
      "metadata": {
        "colab": {
          "base_uri": "https://localhost:8080/",
          "height": 741
        },
        "id": "WLeh48nRRTEM",
        "outputId": "4a041451-62ea-4329-8bc0-e2b8ac0f1e34"
      },
      "execution_count": null,
      "outputs": [
        {
          "output_type": "display_data",
          "data": {
            "text/plain": [
              "<Figure size 800x800 with 1 Axes>"
            ],
            "image/png": "[encoded data removed]"
          },
          "metadata": {}
        }
      ]
    },
    {
      "cell_type": "markdown",
      "source": [
        "2. Word2Vec"
      ],
      "metadata": {
        "id": "Df3JtpKb49zR"
      }
    },
    {
      "cell_type": "code",
      "source": [
        "def document_vector_avg(w2v_model, doc):\n",
        "    vectors = [w2v_model.wv[word] for word in doc if word in w2v_model.wv.index_to_key]\n",
        "    if vectors:\n",
        "        return np.mean(vectors, axis=0)\n",
        "    else:\n",
        "        return np.zeros(w2v_model.vector_size)\n",
        "\n",
        "X_train_avg = np.array([document_vector_avg(w2v_model, doc) for doc in X_train])\n",
        "X_val_avg = np.array([document_vector_avg(w2v_model, doc) for doc in X_val])\n",
        "X_test_avg = np.array([document_vector_avg(w2v_model, doc) for doc in X_test])"
      ],
      "metadata": {
        "id": "yZa3GUuYQ55C"
      },
      "execution_count": 12,
      "outputs": []
    },
    {
      "cell_type": "code",
      "source": [
        "start_time = time.time()\n",
        "model_Word2 = GridSearchCV(SVC(kernel='rbf', probability=True), parameters, cv=5, n_jobs=-1).fit(X_train_avg, y_train)\n",
        "\n",
        "end_time = time.time()\n",
        "\n",
        "\n",
        "training_time = end_time - start_time\n",
        "\n",
        "print(f\"GridSearchCV completed in {training_time:.2f} seconds\")"
      ],
      "metadata": {
        "id": "ECf0YeKsbzPL",
        "colab": {
          "base_uri": "https://localhost:8080/"
        },
        "outputId": "aa1253c5-cc88-4369-9ba3-d692486f5eba"
      },
      "execution_count": 13,
      "outputs": [
        {
          "output_type": "stream",
          "name": "stdout",
          "text": [
            "GridSearchCV completed in 197.23 seconds\n"
          ]
        }
      ]
    },
    {
      "cell_type": "code",
      "source": [
        "print(\"Train score:\", model_Word2.score(X_train_avg, y_train))\n",
        "print(\"Validation score:\", model_Word2.score(X_val_avg, y_val))"
      ],
      "metadata": {
        "colab": {
          "base_uri": "https://localhost:8080/"
        },
        "id": "_Mq1gQz4cQ3E",
        "outputId": "bb7f0d2c-8e57-4b5c-e5cb-d3dbbb40d174"
      },
      "execution_count": null,
      "outputs": [
        {
          "output_type": "stream",
          "name": "stdout",
          "text": [
            "Train score: 0.9727870813397129\n",
            "Validation score: 0.9587443946188341\n"
          ]
        }
      ]
    },
    {
      "cell_type": "code",
      "source": [
        "# Predicting the test set results\n",
        "y_pred = model_Word2.predict(X_test_avg)\n",
        "y_pred_prob = model_Word2.predict_proba(X_test_avg)[:, 1]"
      ],
      "metadata": {
        "id": "yS4ZxjFsEXSH"
      },
      "execution_count": null,
      "outputs": []
    },
    {
      "cell_type": "code",
      "source": [
        "#print the classification report to highlight the accuracy with f1-score, precision and recall\n",
        "print(metrics.classification_report(y_test, y_pred))\n",
        "plot_confusion_matrix(y_test, y_pred)"
      ],
      "metadata": {
        "colab": {
          "base_uri": "https://localhost:8080/",
          "height": 602
        },
        "id": "2QcSMsdOEp_-",
        "outputId": "e615cf07-dab6-4890-ba58-ad2d2b639496"
      },
      "execution_count": null,
      "outputs": [
        {
          "output_type": "stream",
          "name": "stdout",
          "text": [
            "              precision    recall  f1-score   support\n",
            "\n",
            "         ham       0.96      0.97      0.97       954\n",
            "        spam       0.82      0.77      0.79       161\n",
            "\n",
            "    accuracy                           0.94      1115\n",
            "   macro avg       0.89      0.87      0.88      1115\n",
            "weighted avg       0.94      0.94      0.94      1115\n",
            "\n"
          ]
        },
        {
          "output_type": "display_data",
          "data": {
            "text/plain": [
              "<Figure size 640x480 with 2 Axes>"
            ],
            "image/png": "[encoded data removed]"
          },
          "metadata": {}
        }
      ]
    },
    {
      "cell_type": "code",
      "source": [
        "# Function to plot ROC curve\n",
        "def plot_roc_curve(fpr, tpr, roc_auc):\n",
        "    plt.figure(figsize=(8, 8))\n",
        "    plt.plot(fpr, tpr, color='blue', lw=2, label='ROC curve (area = %0.2f)' % roc_auc)\n",
        "    plt.plot([0, 1], [0, 1], color='red', lw=2, linestyle='--')\n",
        "    plt.xlim([0.0, 1.0])\n",
        "    plt.ylim([0.0, 1.05])\n",
        "    plt.xlabel('False Positive Rate')\n",
        "    plt.ylabel('True Positive Rate')\n",
        "    plt.title('Receiver Operating Characteristic')\n",
        "    plt.legend(loc=\"lower right\")\n",
        "    plt.show()\n",
        "\n",
        "\n",
        "# Assuming y_test is a list of strings representing the true labels\n",
        "y_test_binary = [1 if label == 'spam' else 0 for label in y_test]\n",
        "\n",
        "# Compute ROC curve and ROC area for the test set\n",
        "fpr, tpr, _ = roc_curve(y_test_binary, y_pred_prob)\n",
        "roc_auc = auc(fpr, tpr)\n",
        "\n",
        "# Plot ROC curve for the test set\n",
        "plot_roc_curve(fpr, tpr, roc_auc)"
      ],
      "metadata": {
        "colab": {
          "base_uri": "https://localhost:8080/",
          "height": 741
        },
        "id": "pThmfxjqer-9",
        "outputId": "b392bdd4-0b2c-4e13-e67e-f66d2a9420bd"
      },
      "execution_count": null,
      "outputs": [
        {
          "output_type": "display_data",
          "data": {
            "text/plain": [
              "<Figure size 800x800 with 1 Axes>"
            ],
            "image/png": "[encoded data removed]"
          },
          "metadata": {}
        }
      ]
    },
    {
      "cell_type": "markdown",
      "source": [
        "### **Deep Learning model**"
      ],
      "metadata": {
        "id": "PJx6YajBfKA2"
      }
    },
    {
      "cell_type": "markdown",
      "source": [
        "**LSTM**\n",
        "1. TF-IDF"
      ],
      "metadata": {
        "id": "CUdlPAxIgwdG"
      }
    },
    {
      "cell_type": "code",
      "source": [
        "pip install tensorflow"
      ],
      "metadata": {
        "colab": {
          "base_uri": "https://localhost:8080/"
        },
        "id": "GR8SkuoDzNZf",
        "outputId": "ab8db107-8f64-48a4-fc56-2f97c10f3798"
      },
      "execution_count": 45,
      "outputs": [
        {
          "output_type": "stream",
          "name": "stdout",
          "text": [
            "Requirement already satisfied: tensorflow in /usr/local/lib/python3.10/dist-packages (2.15.0)\n",
            "Requirement already satisfied: absl-py>=1.0.0 in /usr/local/lib/python3.10/dist-packages (from tensorflow) (1.4.0)\n",
            "Requirement already satisfied: astunparse>=1.6.0 in /usr/local/lib/python3.10/dist-packages (from tensorflow) (1.6.3)\n",
            "Requirement already satisfied: flatbuffers>=23.5.26 in /usr/local/lib/python3.10/dist-packages (from tensorflow) (24.3.25)\n",
            "Requirement already satisfied: gast!=0.5.0,!=0.5.1,!=0.5.2,>=0.2.1 in /usr/local/lib/python3.10/dist-packages (from tensorflow) (0.5.4)\n",
            "Requirement already satisfied: google-pasta>=0.1.1 in /usr/local/lib/python3.10/dist-packages (from tensorflow) (0.2.0)\n",
            "Requirement already satisfied: h5py>=2.9.0 in /usr/local/lib/python3.10/dist-packages (from tensorflow) (3.9.0)\n",
            "Requirement already satisfied: libclang>=13.0.0 in /usr/local/lib/python3.10/dist-packages (from tensorflow) (18.1.1)\n",
            "Requirement already satisfied: ml-dtypes~=0.2.0 in /usr/local/lib/python3.10/dist-packages (from tensorflow) (0.2.0)\n",
            "Requirement already satisfied: numpy<2.0.0,>=1.23.5 in /usr/local/lib/python3.10/dist-packages (from tensorflow) (1.25.2)\n",
            "Requirement already satisfied: opt-einsum>=2.3.2 in /usr/local/lib/python3.10/dist-packages (from tensorflow) (3.3.0)\n",
            "Requirement already satisfied: packaging in /usr/local/lib/python3.10/dist-packages (from tensorflow) (24.0)\n",
            "Requirement already satisfied: protobuf!=4.21.0,!=4.21.1,!=4.21.2,!=4.21.3,!=4.21.4,!=4.21.5,<5.0.0dev,>=3.20.3 in /usr/local/lib/python3.10/dist-packages (from tensorflow) (3.20.3)\n",
            "Requirement already satisfied: setuptools in /usr/local/lib/python3.10/dist-packages (from tensorflow) (67.7.2)\n",
            "Requirement already satisfied: six>=1.12.0 in /usr/local/lib/python3.10/dist-packages (from tensorflow) (1.16.0)\n",
            "Requirement already satisfied: termcolor>=1.1.0 in /usr/local/lib/python3.10/dist-packages (from tensorflow) (2.4.0)\n",
            "Requirement already satisfied: typing-extensions>=3.6.6 in /usr/local/lib/python3.10/dist-packages (from tensorflow) (4.11.0)\n",
            "Requirement already satisfied: wrapt<1.15,>=1.11.0 in /usr/local/lib/python3.10/dist-packages (from tensorflow) (1.14.1)\n",
            "Requirement already satisfied: tensorflow-io-gcs-filesystem>=0.23.1 in /usr/local/lib/python3.10/dist-packages (from tensorflow) (0.36.0)\n",
            "Requirement already satisfied: grpcio<2.0,>=1.24.3 in /usr/local/lib/python3.10/dist-packages (from tensorflow) (1.62.2)\n",
            "Requirement already satisfied: tensorboard<2.16,>=2.15 in /usr/local/lib/python3.10/dist-packages (from tensorflow) (2.15.2)\n",
            "Requirement already satisfied: tensorflow-estimator<2.16,>=2.15.0 in /usr/local/lib/python3.10/dist-packages (from tensorflow) (2.15.0)\n",
            "Requirement already satisfied: keras<2.16,>=2.15.0 in /usr/local/lib/python3.10/dist-packages (from tensorflow) (2.15.0)\n",
            "Requirement already satisfied: wheel<1.0,>=0.23.0 in /usr/local/lib/python3.10/dist-packages (from astunparse>=1.6.0->tensorflow) (0.43.0)\n",
            "Requirement already satisfied: google-auth<3,>=1.6.3 in /usr/local/lib/python3.10/dist-packages (from tensorboard<2.16,>=2.15->tensorflow) (2.27.0)\n",
            "Requirement already satisfied: google-auth-oauthlib<2,>=0.5 in /usr/local/lib/python3.10/dist-packages (from tensorboard<2.16,>=2.15->tensorflow) (1.2.0)\n",
            "Requirement already satisfied: markdown>=2.6.8 in /usr/local/lib/python3.10/dist-packages (from tensorboard<2.16,>=2.15->tensorflow) (3.6)\n",
            "Requirement already satisfied: requests<3,>=2.21.0 in /usr/local/lib/python3.10/dist-packages (from tensorboard<2.16,>=2.15->tensorflow) (2.31.0)\n",
            "Requirement already satisfied: tensorboard-data-server<0.8.0,>=0.7.0 in /usr/local/lib/python3.10/dist-packages (from tensorboard<2.16,>=2.15->tensorflow) (0.7.2)\n",
            "Requirement already satisfied: werkzeug>=1.0.1 in /usr/local/lib/python3.10/dist-packages (from tensorboard<2.16,>=2.15->tensorflow) (3.0.2)\n",
            "Requirement already satisfied: cachetools<6.0,>=2.0.0 in /usr/local/lib/python3.10/dist-packages (from google-auth<3,>=1.6.3->tensorboard<2.16,>=2.15->tensorflow) (5.3.3)\n",
            "Requirement already satisfied: pyasn1-modules>=0.2.1 in /usr/local/lib/python3.10/dist-packages (from google-auth<3,>=1.6.3->tensorboard<2.16,>=2.15->tensorflow) (0.4.0)\n",
            "Requirement already satisfied: rsa<5,>=3.1.4 in /usr/local/lib/python3.10/dist-packages (from google-auth<3,>=1.6.3->tensorboard<2.16,>=2.15->tensorflow) (4.9)\n",
            "Requirement already satisfied: requests-oauthlib>=0.7.0 in /usr/local/lib/python3.10/dist-packages (from google-auth-oauthlib<2,>=0.5->tensorboard<2.16,>=2.15->tensorflow) (1.3.1)\n",
            "Requirement already satisfied: charset-normalizer<4,>=2 in /usr/local/lib/python3.10/dist-packages (from requests<3,>=2.21.0->tensorboard<2.16,>=2.15->tensorflow) (3.3.2)\n",
            "Requirement already satisfied: idna<4,>=2.5 in /usr/local/lib/python3.10/dist-packages (from requests<3,>=2.21.0->tensorboard<2.16,>=2.15->tensorflow) (3.7)\n",
            "Requirement already satisfied: urllib3<3,>=1.21.1 in /usr/local/lib/python3.10/dist-packages (from requests<3,>=2.21.0->tensorboard<2.16,>=2.15->tensorflow) (2.0.7)\n",
            "Requirement already satisfied: certifi>=2017.4.17 in /usr/local/lib/python3.10/dist-packages (from requests<3,>=2.21.0->tensorboard<2.16,>=2.15->tensorflow) (2024.2.2)\n",
            "Requirement already satisfied: MarkupSafe>=2.1.1 in /usr/local/lib/python3.10/dist-packages (from werkzeug>=1.0.1->tensorboard<2.16,>=2.15->tensorflow) (2.1.5)\n",
            "Requirement already satisfied: pyasn1<0.7.0,>=0.4.6 in /usr/local/lib/python3.10/dist-packages (from pyasn1-modules>=0.2.1->google-auth<3,>=1.6.3->tensorboard<2.16,>=2.15->tensorflow) (0.6.0)\n",
            "Requirement already satisfied: oauthlib>=3.0.0 in /usr/local/lib/python3.10/dist-packages (from requests-oauthlib>=0.7.0->google-auth-oauthlib<2,>=0.5->tensorboard<2.16,>=2.15->tensorflow) (3.2.2)\n"
          ]
        }
      ]
    },
    {
      "cell_type": "code",
      "source": [
        "y_train_m = y_train.map({'ham': 0, 'spam': 1}).astype(int)\n",
        "y_val_m = y_val.map({'ham': 0, 'spam': 1}).astype(int)\n",
        "y_test_m = y_test.map({'ham': 0, 'spam': 1}).astype(int)\n"
      ],
      "metadata": {
        "id": "PqRxH7rqqhdK"
      },
      "execution_count": 46,
      "outputs": []
    },
    {
      "cell_type": "code",
      "source": [
        "X_train_tfidf_dense = X_train_tfidf.toarray()\n",
        "X_val_tfidf_dense = X_val_tfidf.toarray()\n",
        "X_test_tfidf_dense = X_test_tfidf.toarray()"
      ],
      "metadata": {
        "id": "I7ptuztG0xno"
      },
      "execution_count": 47,
      "outputs": []
    },
    {
      "cell_type": "code",
      "source": [
        "X_train_tfidf_lstm = np.expand_dims(X_train_tfidf_dense, axis=1)\n",
        "X_val_tfidf_lstm = np.expand_dims(X_val_tfidf_dense, axis=1)\n",
        "X_test_tfidf_lstm = np.expand_dims(X_test_tfidf_dense, axis=1)"
      ],
      "metadata": {
        "id": "Zpqzisy806hh"
      },
      "execution_count": 48,
      "outputs": []
    },
    {
      "cell_type": "code",
      "source": [
        "from tensorflow.keras.models import Model\n",
        "from tensorflow.keras.layers import Input, LSTM, Dense, Dropout, Bidirectional\n",
        "import tensorflow as tf\n",
        "\n",
        "input_shape_tfidf = (1, 2676)\n",
        "\n",
        "# Define input\n",
        "input_tfidf = Input(shape=input_shape_tfidf)\n",
        "\n",
        "# Process TF-IDF input using LSTM layer\n",
        "lstm_tfidf = Bidirectional(LSTM(64, return_sequences=False))(input_tfidf)\n",
        "\n",
        "# Dropout layer\n",
        "dropout_tfidf = Dropout(0.2)(lstm_tfidf)\n",
        "\n",
        "# Fully connected layer\n",
        "fc_tfidf = Dense(64, activation='relu')(dropout_tfidf)\n",
        "\n",
        "# Dropout layer\n",
        "dropout_tfidf_2 = Dropout(0.2)(fc_tfidf)\n",
        "\n",
        "# Output layer\n",
        "output_tfidf = Dense(1, activation='sigmoid')(dropout_tfidf_2)\n",
        "\n",
        "# Create and compile TF-IDF model\n",
        "model_tfidf = Model(inputs=input_tfidf, outputs=output_tfidf)\n",
        "model_tfidf.compile(optimizer='adam', loss='binary_crossentropy', metrics=['accuracy'])\n",
        "\n",
        "# Display model summary\n",
        "model_tfidf.summary()\n",
        "\n",
        "start_time = time.time()  # Record training start time\n",
        "\n",
        "# Train TF-IDF model\n",
        "model_tfidf.fit(x=X_train_tfidf_lstm, y=y_train_m, epochs=10, batch_size=64, validation_data=(X_val_tfidf_lstm, y_val_m))\n",
        "\n",
        "end_time = time.time()  # Record training end time\n",
        "training_time = end_time - start_time  # Calculate total training time\n",
        "\n",
        "print(f\"Training completed in {training_time:.2f} seconds\")"
      ],
      "metadata": {
        "colab": {
          "base_uri": "https://localhost:8080/"
        },
        "id": "XyYISUKs0Kv0",
        "outputId": "2c590c2b-d1cf-401c-a494-d2914c7d9d39"
      },
      "execution_count": 49,
      "outputs": [
        {
          "output_type": "stream",
          "name": "stdout",
          "text": [
            "Model: \"model\"\n",
            "_________________________________________________________________\n",
            " Layer (type)                Output Shape              Param #   \n",
            "=================================================================\n",
            " input_1 (InputLayer)        [(None, 1, 2676)]         0         \n",
            "                                                                 \n",
            " bidirectional (Bidirection  (None, 128)               1403392   \n",
            " al)                                                             \n",
            "                                                                 \n",
            " dropout_4 (Dropout)         (None, 128)               0         \n",
            "                                                                 \n",
            " dense_4 (Dense)             (None, 64)                8256      \n",
            "                                                                 \n",
            " dropout_5 (Dropout)         (None, 64)                0         \n",
            "                                                                 \n",
            " dense_5 (Dense)             (None, 1)                 65        \n",
            "                                                                 \n",
            "=================================================================\n",
            "Total params: 1411713 (5.39 MB)\n",
            "Trainable params: 1411713 (5.39 MB)\n",
            "Non-trainable params: 0 (0.00 Byte)\n",
            "_________________________________________________________________\n",
            "Epoch 1/10\n",
            "53/53 [==============================] - 19s 85ms/step - loss: 0.5220 - accuracy: 0.8597 - val_loss: 0.2783 - val_accuracy: 0.8717\n",
            "Epoch 2/10\n",
            "53/53 [==============================] - 2s 41ms/step - loss: 0.1920 - accuracy: 0.9181 - val_loss: 0.1239 - val_accuracy: 0.9623\n",
            "Epoch 3/10\n",
            "53/53 [==============================] - 3s 50ms/step - loss: 0.0801 - accuracy: 0.9800 - val_loss: 0.0634 - val_accuracy: 0.9821\n",
            "Epoch 4/10\n",
            "53/53 [==============================] - 4s 72ms/step - loss: 0.0428 - accuracy: 0.9874 - val_loss: 0.0512 - val_accuracy: 0.9830\n",
            "Epoch 5/10\n",
            "53/53 [==============================] - 3s 59ms/step - loss: 0.0262 - accuracy: 0.9925 - val_loss: 0.0502 - val_accuracy: 0.9839\n",
            "Epoch 6/10\n",
            "53/53 [==============================] - 2s 46ms/step - loss: 0.0154 - accuracy: 0.9958 - val_loss: 0.0532 - val_accuracy: 0.9848\n",
            "Epoch 7/10\n",
            "53/53 [==============================] - 3s 54ms/step - loss: 0.0104 - accuracy: 0.9976 - val_loss: 0.0568 - val_accuracy: 0.9830\n",
            "Epoch 8/10\n",
            "53/53 [==============================] - 2s 40ms/step - loss: 0.0074 - accuracy: 0.9988 - val_loss: 0.0595 - val_accuracy: 0.9830\n",
            "Epoch 9/10\n",
            "53/53 [==============================] - 3s 61ms/step - loss: 0.0066 - accuracy: 0.9982 - val_loss: 0.0640 - val_accuracy: 0.9821\n",
            "Epoch 10/10\n",
            "53/53 [==============================] - 3s 50ms/step - loss: 0.0049 - accuracy: 0.9985 - val_loss: 0.0659 - val_accuracy: 0.9830\n",
            "Training completed in 55.52 seconds\n"
          ]
        }
      ]
    },
    {
      "cell_type": "code",
      "source": [
        "# Use the model to make predictions on the test data\n",
        "y_pred_proba = model_tfidf.predict(X_test_tfidf_lstm)\n",
        "y_pred = (y_pred_proba > 0.5).astype(int)  # Convert probabilities to class labels, using 0.5 as the threshold\n"
      ],
      "metadata": {
        "colab": {
          "base_uri": "https://localhost:8080/"
        },
        "id": "FlEacwQh10OY",
        "outputId": "d700e351-da1e-49d3-8baf-b89d9411abda"
      },
      "execution_count": null,
      "outputs": [
        {
          "output_type": "stream",
          "name": "stdout",
          "text": [
            "35/35 [==============================] - 2s 10ms/step\n"
          ]
        }
      ]
    },
    {
      "cell_type": "code",
      "source": [
        "report = classification_report(y_test_m, y_pred, target_names=['ham', 'spam'])\n",
        "print(report)\n",
        "plot_confusion_matrix(y_test_m, y_pred)"
      ],
      "metadata": {
        "colab": {
          "base_uri": "https://localhost:8080/",
          "height": 602
        },
        "id": "_fm5-XSn13lc",
        "outputId": "9f6f2994-3ce6-4b73-f52d-1fec86e1ab58"
      },
      "execution_count": null,
      "outputs": [
        {
          "output_type": "stream",
          "name": "stdout",
          "text": [
            "              precision    recall  f1-score   support\n",
            "\n",
            "         ham       0.98      0.99      0.99       954\n",
            "        spam       0.96      0.90      0.93       161\n",
            "\n",
            "    accuracy                           0.98      1115\n",
            "   macro avg       0.97      0.95      0.96      1115\n",
            "weighted avg       0.98      0.98      0.98      1115\n",
            "\n"
          ]
        },
        {
          "output_type": "display_data",
          "data": {
            "text/plain": [
              "<Figure size 640x480 with 2 Axes>"
            ],
            "image/png": "[encoded data removed]"
          },
          "metadata": {}
        }
      ]
    },
    {
      "cell_type": "markdown",
      "source": [
        "2. Word2Vec"
      ],
      "metadata": {
        "id": "lzqoGWCnwkSf"
      }
    },
    {
      "cell_type": "code",
      "source": [
        "input_shape_word2vec = (100, 200)\n",
        "\n",
        "# Define input\n",
        "input_word2vec = Input(shape=input_shape_word2vec)\n",
        "\n",
        "# Process word2vec input using LSTM layer\n",
        "lstm_word2vec = Bidirectional(LSTM(64, return_sequences=False))(input_word2vec)\n",
        "\n",
        "# Dropout layer\n",
        "dropout_word2vec = Dropout(0.2)(lstm_word2vec)\n",
        "\n",
        "# Fully connected layer\n",
        "fc_word2vec = Dense(64, activation='relu')(dropout_word2vec)\n",
        "\n",
        "# Dropout layer\n",
        "dropout_word2vec_2 = Dropout(0.2)(fc_word2vec)\n",
        "\n",
        "# Output layer\n",
        "output_word2vec = Dense(1, activation='sigmoid')(dropout_word2vec_2)\n",
        "\n",
        "# Create and compile word2vec model\n",
        "model_word2vec_without_weights = Model(inputs=input_word2vec, outputs=output_word2vec)\n",
        "\n",
        "model_word2vec_without_weights.compile(optimizer='Adam', loss='binary_crossentropy', metrics=['accuracy'])\n",
        "\n",
        "# Display model summary\n",
        "model_word2vec_without_weights.summary()\n",
        "\n",
        "start_time = time.time()  # Record training start time\n",
        "\n",
        "# Train word2vec model\n",
        "model_word2vec_without_weights.fit(x=X_train_sequences, y=y_train_m, epochs=10, batch_size=64, validation_data=(X_val_sequences, y_val_m))\n",
        "\n",
        "end_time = time.time()  # Record training end time\n",
        "training_time = end_time - start_time  # Calculate total training time\n",
        "\n",
        "print(f\"Training completed in {training_time:.2f} seconds\")"
      ],
      "metadata": {
        "colab": {
          "base_uri": "https://localhost:8080/"
        },
        "outputId": "cf3847c5-6c0a-47d1-b917-6f0004e1c024",
        "id": "J0b8iXWsnATm"
      },
      "execution_count": 79,
      "outputs": [
        {
          "output_type": "stream",
          "name": "stdout",
          "text": [
            "Model: \"model_5\"\n",
            "_________________________________________________________________\n",
            " Layer (type)                Output Shape              Param #   \n",
            "=================================================================\n",
            " input_6 (InputLayer)        [(None, 100, 200)]        0         \n",
            "                                                                 \n",
            " bidirectional_5 (Bidirecti  (None, 128)               135680    \n",
            " onal)                                                           \n",
            "                                                                 \n",
            " dropout_14 (Dropout)        (None, 128)               0         \n",
            "                                                                 \n",
            " dense_14 (Dense)            (None, 64)                8256      \n",
            "                                                                 \n",
            " dropout_15 (Dropout)        (None, 64)                0         \n",
            "                                                                 \n",
            " dense_15 (Dense)            (None, 1)                 65        \n",
            "                                                                 \n",
            "=================================================================\n",
            "Total params: 144001 (562.50 KB)\n",
            "Trainable params: 144001 (562.50 KB)\n",
            "Non-trainable params: 0 (0.00 Byte)\n",
            "_________________________________________________________________\n",
            "Epoch 1/10\n",
            "53/53 [==============================] - 22s 282ms/step - loss: 0.4492 - accuracy: 0.8562 - val_loss: 0.3451 - val_accuracy: 0.8717\n",
            "Epoch 2/10\n",
            "53/53 [==============================] - 16s 297ms/step - loss: 0.3328 - accuracy: 0.8630 - val_loss: 0.2893 - val_accuracy: 0.8682\n",
            "Epoch 3/10\n",
            "53/53 [==============================] - 15s 276ms/step - loss: 0.2961 - accuracy: 0.8660 - val_loss: 0.2743 - val_accuracy: 0.8709\n",
            "Epoch 4/10\n",
            "53/53 [==============================] - 15s 276ms/step - loss: 0.2950 - accuracy: 0.8657 - val_loss: 0.3020 - val_accuracy: 0.8717\n",
            "Epoch 5/10\n",
            "53/53 [==============================] - 15s 276ms/step - loss: 0.3042 - accuracy: 0.8675 - val_loss: 0.2738 - val_accuracy: 0.8717\n",
            "Epoch 6/10\n",
            "53/53 [==============================] - 14s 264ms/step - loss: 0.2823 - accuracy: 0.8696 - val_loss: 0.2683 - val_accuracy: 0.8717\n",
            "Epoch 7/10\n",
            "53/53 [==============================] - 15s 279ms/step - loss: 0.2812 - accuracy: 0.8669 - val_loss: 0.2717 - val_accuracy: 0.8726\n",
            "Epoch 8/10\n",
            "53/53 [==============================] - 13s 254ms/step - loss: 0.2774 - accuracy: 0.8645 - val_loss: 0.2703 - val_accuracy: 0.8735\n",
            "Epoch 9/10\n",
            "53/53 [==============================] - 13s 253ms/step - loss: 0.2715 - accuracy: 0.8708 - val_loss: 0.2603 - val_accuracy: 0.8852\n",
            "Epoch 10/10\n",
            "53/53 [==============================] - 13s 239ms/step - loss: 0.2758 - accuracy: 0.8750 - val_loss: 0.2905 - val_accuracy: 0.8691\n",
            "Training completed in 149.70 seconds\n"
          ]
        }
      ]
    },
    {
      "cell_type": "code",
      "source": [
        "y_pred_proba = model_word2vec_without_weights.predict(x=X_test_sequences)\n",
        "y_pred_lstm_w2v = (y_pred_proba > 0.5).astype(int)"
      ],
      "metadata": {
        "colab": {
          "base_uri": "https://localhost:8080/"
        },
        "id": "xZhVy3AyoFmR",
        "outputId": "c2e4f37f-899c-4c12-e1ff-857ca1dd3134"
      },
      "execution_count": 80,
      "outputs": [
        {
          "output_type": "stream",
          "name": "stdout",
          "text": [
            "35/35 [==============================] - 7s 106ms/step\n"
          ]
        }
      ]
    },
    {
      "cell_type": "code",
      "source": [
        "report = classification_report(y_test_m, y_pred_lstm_w2v, target_names=['ham', 'spam'])\n",
        "print(report)\n",
        "plot_confusion_matrix(y_test_m, y_pred_lstm_w2v)"
      ],
      "metadata": {
        "colab": {
          "base_uri": "https://localhost:8080/",
          "height": 602
        },
        "id": "pbUOAzSmoPLx",
        "outputId": "e2a6c144-fc2e-4b7c-cb54-ff4544914b0e"
      },
      "execution_count": 81,
      "outputs": [
        {
          "output_type": "stream",
          "name": "stdout",
          "text": [
            "              precision    recall  f1-score   support\n",
            "\n",
            "         ham       0.91      0.94      0.93       954\n",
            "        spam       0.56      0.47      0.51       161\n",
            "\n",
            "    accuracy                           0.87      1115\n",
            "   macro avg       0.74      0.70      0.72      1115\n",
            "weighted avg       0.86      0.87      0.87      1115\n",
            "\n"
          ]
        },
        {
          "output_type": "display_data",
          "data": {
            "text/plain": [
              "<Figure size 640x480 with 2 Axes>"
            ],
            "image/png": "[encoded data removed]"
          },
          "metadata": {}
        }
      ]
    },
    {
      "cell_type": "code",
      "source": [
        "# Assuming class labels are 0 for HAM and 1 for SPAM\n",
        "class_weights = {\n",
        "    0: 1 / 0.866,  # For HAM\n",
        "    1: 1 / 0.134   # For SPAM\n",
        "}\n",
        "\n",
        "# Adjust to the inverse of the sample ratio\n",
        "class_weights[0] *= (1 / sum(class_weights.values()))\n",
        "class_weights[1] *= (1 / sum(class_weights.values()))\n",
        "\n",
        "print(class_weights)"
      ],
      "metadata": {
        "colab": {
          "base_uri": "https://localhost:8080/"
        },
        "id": "MdDQ94XMhlZ-",
        "outputId": "8097e559-c362-4880-a5ba-df3a9cc1b14d"
      },
      "execution_count": 75,
      "outputs": [
        {
          "output_type": "stream",
          "name": "stdout",
          "text": [
            "{0: 0.134, 1: 0.9823607307192059}\n"
          ]
        }
      ]
    },
    {
      "cell_type": "code",
      "source": [
        "input_shape_word2vec = (100, 200)\n",
        "\n",
        "# Define input\n",
        "input_word2vec = Input(shape=input_shape_word2vec)\n",
        "\n",
        "# Process word2vec input using LSTM layer\n",
        "lstm_word2vec = Bidirectional(LSTM(64, return_sequences=False))(input_word2vec)\n",
        "\n",
        "# Dropout layer\n",
        "dropout_word2vec = Dropout(0.2)(lstm_word2vec)\n",
        "\n",
        "# Fully connected layer\n",
        "fc_word2vec = Dense(64, activation='relu')(dropout_word2vec)\n",
        "\n",
        "# Dropout layer\n",
        "dropout_word2vec_2 = Dropout(0.2)(fc_word2vec)\n",
        "\n",
        "# Output layer\n",
        "output_word2vec = Dense(1, activation='sigmoid')(dropout_word2vec_2)\n",
        "\n",
        "# Create and compile word2vec model\n",
        "model_word2vec = Model(inputs=input_word2vec, outputs=output_word2vec)\n",
        "\n",
        "model_word2vec.compile(optimizer='Adam', loss='binary_crossentropy', metrics=['accuracy'])\n",
        "\n",
        "# Display model summary\n",
        "model_word2vec.summary()\n",
        "\n",
        "start_time = time.time()  # Record training start time\n",
        "\n",
        "# Train word2vec model\n",
        "model_word2vec.fit(x=X_train_sequences, y=y_train_m, epochs=10, batch_size=64, validation_data=(X_val_sequences, y_val_m), class_weight=class_weights)\n",
        "\n",
        "end_time = time.time()  # Record training end time\n",
        "training_time = end_time - start_time  # Calculate total training time\n",
        "\n",
        "print(f\"Training completed in {training_time:.2f} seconds\")"
      ],
      "metadata": {
        "colab": {
          "base_uri": "https://localhost:8080/"
        },
        "id": "h-nWk2TNGBE6",
        "outputId": "f81b3dd9-9dbc-4436-dff4-c842a96859e5"
      },
      "execution_count": 76,
      "outputs": [
        {
          "output_type": "stream",
          "name": "stdout",
          "text": [
            "Model: \"model_4\"\n",
            "_________________________________________________________________\n",
            " Layer (type)                Output Shape              Param #   \n",
            "=================================================================\n",
            " input_5 (InputLayer)        [(None, 100, 200)]        0         \n",
            "                                                                 \n",
            " bidirectional_4 (Bidirecti  (None, 128)               135680    \n",
            " onal)                                                           \n",
            "                                                                 \n",
            " dropout_12 (Dropout)        (None, 128)               0         \n",
            "                                                                 \n",
            " dense_12 (Dense)            (None, 64)                8256      \n",
            "                                                                 \n",
            " dropout_13 (Dropout)        (None, 64)                0         \n",
            "                                                                 \n",
            " dense_13 (Dense)            (None, 1)                 65        \n",
            "                                                                 \n",
            "=================================================================\n",
            "Total params: 144001 (562.50 KB)\n",
            "Trainable params: 144001 (562.50 KB)\n",
            "Non-trainable params: 0 (0.00 Byte)\n",
            "_________________________________________________________________\n",
            "Epoch 1/10\n",
            "53/53 [==============================] - 23s 338ms/step - loss: 0.1527 - accuracy: 0.6346 - val_loss: 0.6555 - val_accuracy: 0.6987\n",
            "Epoch 2/10\n",
            "53/53 [==============================] - 15s 277ms/step - loss: 0.1229 - accuracy: 0.7330 - val_loss: 0.5117 - val_accuracy: 0.7614\n",
            "Epoch 3/10\n",
            "53/53 [==============================] - 13s 254ms/step - loss: 0.1200 - accuracy: 0.7318 - val_loss: 0.5642 - val_accuracy: 0.7130\n",
            "Epoch 4/10\n",
            "53/53 [==============================] - 14s 275ms/step - loss: 0.1158 - accuracy: 0.7324 - val_loss: 0.4188 - val_accuracy: 0.7883\n",
            "Epoch 5/10\n",
            "53/53 [==============================] - 13s 255ms/step - loss: 0.1144 - accuracy: 0.7347 - val_loss: 0.3597 - val_accuracy: 0.8081\n",
            "Epoch 6/10\n",
            "53/53 [==============================] - 14s 262ms/step - loss: 0.1132 - accuracy: 0.7521 - val_loss: 0.5177 - val_accuracy: 0.7435\n",
            "Epoch 7/10\n",
            "53/53 [==============================] - 14s 275ms/step - loss: 0.1117 - accuracy: 0.7560 - val_loss: 0.6426 - val_accuracy: 0.6726\n",
            "Epoch 8/10\n",
            "53/53 [==============================] - 16s 295ms/step - loss: 0.1117 - accuracy: 0.7398 - val_loss: 0.5188 - val_accuracy: 0.7480\n",
            "Epoch 9/10\n",
            "53/53 [==============================] - 13s 256ms/step - loss: 0.1080 - accuracy: 0.7653 - val_loss: 0.4871 - val_accuracy: 0.7561\n",
            "Epoch 10/10\n",
            "53/53 [==============================] - 16s 298ms/step - loss: 0.1093 - accuracy: 0.7533 - val_loss: 0.5015 - val_accuracy: 0.7462\n",
            "Training completed in 207.50 seconds\n"
          ]
        }
      ]
    },
    {
      "cell_type": "code",
      "source": [
        "y_pred_proba = model_word2vec.predict(x=X_test_sequences)\n",
        "y_pred_lstm_w2v = (y_pred_proba > 0.5).astype(int)"
      ],
      "metadata": {
        "colab": {
          "base_uri": "https://localhost:8080/"
        },
        "id": "inr6GGsmzxgB",
        "outputId": "cad8f060-3a6f-4125-ab59-b603497abbef"
      },
      "execution_count": 77,
      "outputs": [
        {
          "output_type": "stream",
          "name": "stdout",
          "text": [
            "35/35 [==============================] - 4s 77ms/step\n"
          ]
        }
      ]
    },
    {
      "cell_type": "code",
      "source": [
        "report = classification_report(y_test_m, y_pred_lstm_w2v, target_names=['ham', 'spam'])\n",
        "print(report)\n",
        "plot_confusion_matrix(y_test_m, y_pred_lstm_w2v)"
      ],
      "metadata": {
        "colab": {
          "base_uri": "https://localhost:8080/",
          "height": 605
        },
        "id": "8xt4Pd3f6XCh",
        "outputId": "21b9c132-f31c-4d74-9dec-286d56847bbb"
      },
      "execution_count": 78,
      "outputs": [
        {
          "output_type": "stream",
          "name": "stdout",
          "text": [
            "              precision    recall  f1-score   support\n",
            "\n",
            "         ham       0.97      0.74      0.84       954\n",
            "        spam       0.36      0.87      0.51       161\n",
            "\n",
            "    accuracy                           0.76      1115\n",
            "   macro avg       0.67      0.81      0.68      1115\n",
            "weighted avg       0.88      0.76      0.79      1115\n",
            "\n"
          ]
        },
        {
          "output_type": "display_data",
          "data": {
            "text/plain": [
              "<Figure size 640x480 with 2 Axes>"
            ],
            "image/png": "[encoded data removed]"
          },
          "metadata": {}
        }
      ]
    },
    {
      "cell_type": "markdown",
      "source": [
        "### **Generate SPAM-like emails**"
      ],
      "metadata": {
        "id": "_m_7C3Vn8E6E"
      }
    },
    {
      "cell_type": "code",
      "source": [
        "# Filter out all 'spam' data\n",
        "spam_data = data[data['label'] == 'spam']['processed']"
      ],
      "metadata": {
        "id": "Dov3GtUZ68MQ"
      },
      "execution_count": 14,
      "outputs": []
    },
    {
      "cell_type": "code",
      "source": [
        "spam_data"
      ],
      "metadata": {
        "colab": {
          "base_uri": "https://localhost:8080/"
        },
        "id": "WjcT5colvV6_",
        "outputId": "0d48fae2-8b7b-41ad-d26b-37c7d08c073b"
      },
      "execution_count": 15,
      "outputs": [
        {
          "output_type": "execute_result",
          "data": {
            "text/plain": [
              "2       [free, entry, 2, wkly, comp, win, fa, cup, fin...\n",
              "5       [freemsg, hey, darle, 3, week, word, d, like, ...\n",
              "8       [winner, value, network, customer, select, rec...\n",
              "9       [mobile, 11, month, u, r, entitle, update, lat...\n",
              "11      [chance, win, cash, 100, 20000, pound, txt, cs...\n",
              "                              ...                        \n",
              "5539    [want, explicit, sex, 30, sec, ring, 020731624...\n",
              "5542    [ask, 3mobile, 0870, chatline, inclu, free, mi...\n",
              "5549    [contract, mobile, 11, mnth, late, motorola, n...\n",
              "5568    [reminder, o2, 250, pound, free, credit, detai...\n",
              "5569    [2nd, time, try, 2, contact, u, u, win, 750, p...\n",
              "Name: processed, Length: 747, dtype: object"
            ]
          },
          "metadata": {},
          "execution_count": 15
        }
      ]
    },
    {
      "cell_type": "code",
      "source": [
        "texts = [' '.join(text) for text in spam_data.tolist()]"
      ],
      "metadata": {
        "id": "UbjRRoq19bJL"
      },
      "execution_count": 16,
      "outputs": []
    },
    {
      "cell_type": "code",
      "source": [
        "from tensorflow.keras.preprocessing.text import Tokenizer\n",
        "from tensorflow.keras.preprocessing.sequence import pad_sequences"
      ],
      "metadata": {
        "id": "Ht3zzWTYxMWq"
      },
      "execution_count": 17,
      "outputs": []
    },
    {
      "cell_type": "code",
      "source": [
        "tokenizer = Tokenizer()\n",
        "tokenizer.fit_on_texts(texts)\n",
        "sequences = tokenizer.texts_to_sequences(texts)"
      ],
      "metadata": {
        "id": "nh2iGvL-w1IP"
      },
      "execution_count": 18,
      "outputs": []
    },
    {
      "cell_type": "code",
      "source": [
        "max_seq_length = max(len(seq) for seq in sequences)\n",
        "sequences = pad_sequences(sequences, maxlen=max_seq_length, padding='post')"
      ],
      "metadata": {
        "id": "8he_D-G1xRqc"
      },
      "execution_count": 19,
      "outputs": []
    },
    {
      "cell_type": "code",
      "source": [
        "X = sequences\n",
        "y = np.zeros((len(sequences), max_seq_length, len(tokenizer.word_index) + 1))\n",
        "for i, sequence in enumerate(sequences):\n",
        "    for t, word_index in enumerate(sequence):\n",
        "        if t+1 < len(sequence):\n",
        "            y[i, t, sequence[t+1]] = 1"
      ],
      "metadata": {
        "id": "SMR2rGH99egf"
      },
      "execution_count": 20,
      "outputs": []
    },
    {
      "cell_type": "code",
      "source": [
        "from tensorflow.keras.models import Sequential\n",
        "from tensorflow.keras.layers import Embedding\n",
        "from tensorflow.keras.models import Model\n",
        "from tensorflow.keras.layers import Input, LSTM, Dense, Dropout, Bidirectional, Concatenate\n",
        "import tensorflow as tf\n",
        "\n",
        "model = Sequential()\n",
        "model.add(Embedding(input_dim=len(tokenizer.word_index) + 1, output_dim=64, input_length=max_seq_length))\n",
        "model.add(LSTM(128, return_sequences=True))\n",
        "model.add(Dropout(0.2))\n",
        "model.add(LSTM(64, return_sequences=True))\n",
        "model.add(Dropout(0.2))\n",
        "model.add(Dense(32, activation='relu'))\n",
        "model.add(Dense(len(tokenizer.word_index) + 1, activation='softmax'))\n",
        "\n",
        "\n",
        "model.compile(optimizer='adam', loss='categorical_crossentropy', metrics=['accuracy'])\n",
        "model.summary()"
      ],
      "metadata": {
        "id": "LIAZqQ1r9hTp",
        "colab": {
          "base_uri": "https://localhost:8080/"
        },
        "outputId": "aff51dc2-94eb-4f81-dfbc-0eb3fb662ccd"
      },
      "execution_count": 23,
      "outputs": [
        {
          "output_type": "stream",
          "name": "stdout",
          "text": [
            "Model: \"sequential_2\"\n",
            "_________________________________________________________________\n",
            " Layer (type)                Output Shape              Param #   \n",
            "=================================================================\n",
            " embedding_2 (Embedding)     (None, 27, 64)            169408    \n",
            "                                                                 \n",
            " lstm_2 (LSTM)               (None, 27, 128)           98816     \n",
            "                                                                 \n",
            " dropout_2 (Dropout)         (None, 27, 128)           0         \n",
            "                                                                 \n",
            " lstm_3 (LSTM)               (None, 27, 64)            49408     \n",
            "                                                                 \n",
            " dropout_3 (Dropout)         (None, 27, 64)            0         \n",
            "                                                                 \n",
            " dense_2 (Dense)             (None, 27, 32)            2080      \n",
            "                                                                 \n",
            " dense_3 (Dense)             (None, 27, 2647)          87351     \n",
            "                                                                 \n",
            "=================================================================\n",
            "Total params: 407063 (1.55 MB)\n",
            "Trainable params: 407063 (1.55 MB)\n",
            "Non-trainable params: 0 (0.00 Byte)\n",
            "_________________________________________________________________\n"
          ]
        }
      ]
    },
    {
      "cell_type": "code",
      "source": [
        "model.fit(X, y, epochs=10, batch_size=32)"
      ],
      "metadata": {
        "colab": {
          "base_uri": "https://localhost:8080/"
        },
        "id": "okMUC2iVxnU2",
        "outputId": "1b6b3508-5e55-40e4-b7e7-a3aa0e84b5e7"
      },
      "execution_count": 24,
      "outputs": [
        {
          "output_type": "stream",
          "name": "stdout",
          "text": [
            "Epoch 1/10\n",
            "24/24 [==============================] - 8s 114ms/step - loss: 7.2297 - accuracy: 0.4145\n",
            "Epoch 2/10\n",
            "24/24 [==============================] - 6s 265ms/step - loss: 5.1092 - accuracy: 0.4542\n",
            "Epoch 3/10\n",
            "24/24 [==============================] - 7s 274ms/step - loss: 4.4392 - accuracy: 0.4542\n",
            "Epoch 4/10\n",
            "24/24 [==============================] - 3s 111ms/step - loss: 4.3764 - accuracy: 0.4534\n",
            "Epoch 5/10\n",
            "24/24 [==============================] - 3s 112ms/step - loss: 4.3004 - accuracy: 0.4537\n",
            "Epoch 6/10\n",
            "24/24 [==============================] - 3s 111ms/step - loss: 4.1545 - accuracy: 0.4542\n",
            "Epoch 7/10\n",
            "24/24 [==============================] - 4s 147ms/step - loss: 4.0097 - accuracy: 0.4542\n",
            "Epoch 8/10\n",
            "24/24 [==============================] - 4s 163ms/step - loss: 3.9232 - accuracy: 0.4543\n",
            "Epoch 9/10\n",
            "24/24 [==============================] - 3s 114ms/step - loss: 3.8712 - accuracy: 0.4543\n",
            "Epoch 10/10\n",
            "24/24 [==============================] - 3s 114ms/step - loss: 3.8314 - accuracy: 0.4564\n"
          ]
        },
        {
          "output_type": "execute_result",
          "data": {
            "text/plain": [
              "<keras.src.callbacks.History at 0x7d420ece1d80>"
            ]
          },
          "metadata": {},
          "execution_count": 24
        }
      ]
    },
    {
      "cell_type": "code",
      "source": [
        "def generate_text(seed_text, next_words=50):\n",
        "    for _ in range(next_words):\n",
        "        token_list = tokenizer.texts_to_sequences([seed_text])[0]\n",
        "        token_list = pad_sequences([token_list], maxlen=max_seq_length, padding='post')\n",
        "        predicted_probs = model.predict(token_list, verbose=0)\n",
        "        # Select the index of the most likely word at the last time step\n",
        "        predicted_index = np.argmax(predicted_probs[0, -1])\n",
        "        output_word = \"\"\n",
        "        # Find the corresponding word by index\n",
        "        for word, index in tokenizer.word_index.items():\n",
        "            if index == predicted_index:\n",
        "                output_word = word\n",
        "                break\n",
        "        seed_text += \" \" + output_word\n",
        "    return seed_text\n",
        "\n",
        "# Generate 100 samples\n",
        "generated_texts = []\n",
        "for _ in range(100):\n",
        "    seed_text = np.random.choice(texts)\n",
        "    print(generate_text(seed_text))\n",
        "    generated_text = generate_text(seed_text)\n",
        "    generated_texts.append(generated_text)\n"
      ],
      "metadata": {
        "id": "L43zMkUm9m2m",
        "colab": {
          "base_uri": "https://localhost:8080/"
        },
        "outputId": "3ed1dbf5-6ed4-47ce-9db9-f02c0e3fc738"
      },
      "execution_count": 25,
      "outputs": [
        {
          "output_type": "stream",
          "name": "stdout",
          "text": [
            "win nokia 7250i win free auction send nokia 86021 hgsuite3422land roww1jhl 16                                                  \n",
            "weekly coolmob tone ready download week new tone include 1 crazy frogaxel f 2 akonlonely 3 black eyeddont p info n                                                  \n",
            "phony 350 award today voda number end xxxx select receive 350 award match 08712300220 quote claim code 3100 standard rate app                                                  \n",
            "win 1000 cash 2000 prize claim call09050000327                                                  \n",
            "romantic paris 2 night 2 flight 79 book 4 year 08704439680tscs apply                                                  \n",
            "today vodafone number end 4882 select receive 350 award number match 09064019014 receive 350 award                                                  \n",
            "sunshine hol claim ur med holiday send stamp self address envelope drink uk po box 113 bray wicklow eire quiz start saturday unsub stop                                                  \n",
            "wow boy r 2007 uk tour win vip ticket prebook vip club txt club 81303 trackmarque ltd infovipclub4u                                                  \n",
            "auction round 4 high bid 54 maximum bid 71 bid send bid e g 10 bid 10 83383 good luck                                                  \n",
            "value customer pleased advise follow recent review mob award 1500 bonus prize 09066368470                                                  \n",
            "double min double txt 12 price linerental late orange bluetooth mobile mobileupd8 late offer 08000839402 call2optoutlf56                                                  \n",
            "free messagethank auction subscription service 18 150pmsgrcvd 2 skip auction txt 2 unsubscribe txt stop customercare 08718726270                                                  \n",
            "today voda number end 7634 select receive 350 reward match 08712300220 quote claim code 7684 standard rate apply                                                  \n",
            "u win 100 music gift voucher week start txt word draw 87066 tscs wwwidewcom skillgame 1winaweek age16 150ppermesssubscription                                                  \n",
            "1000 winner guarantee caller prize final attempt contact claim 09071517866 150ppmpobox10183bhamb64xe                                                  \n",
            "private 2004 account statement 07742676969 show 786 unredeemed bonus point claim 08719180248 identifier code 45239 expire                                                  \n",
            "interflora late order interflora flower christmas 0800 505060 place order midnight tomorrow                                                  \n",
            "want 2 lay tonight want real dog location send direct 2 ur mob join uks large dog network bt txte gravel 69888 not ec2a 31pmsg150p                                                  \n",
            "u secret admirer reveal think u r special 09065174042 opt reply reveal stop 150 msg recd cust care 07821230901                                                  \n",
            "discount code rp176781 stop message reply stop wwwregalportfoliocouk customer service 08717205546                                                  \n",
            "congratulation ur award 500 cd voucher 125gift guarantee free entry 2 100 wkly draw txt music 87066                                                  \n",
            "mobile 11 month u r entitle update late colour mobile camera free mobile update co free 08002986030                                                  \n",
            "bloomberg message center 447797706009 wait apply future httpcareer bloombergcom                                                  \n",
            "sparkling shopping break 45 person 0121 2025050 visit wwwshortbreaksorguk                                                  \n",
            "private 2004 account statement 0784987 show 786 unredeemed bonus point claim 08719180219 identifier code 45239 expire 060505                                                  \n",
            "new mobile 2004 txt nokia 89545 collect today 1 www4tcbiz 2optout 08718726270150gbpmtmsg18 txtauction                                                  \n",
            "sm ac sptv new jersey devil detroit red wing play ice hockey correct incorrect end reply end sptv                                                  \n",
            "urgent urgent 800 free flight europe away b4 10th sept friend 4 free claim 09050000555 ba128nnfwfly150ppm                                                  \n",
            "1000 flirt txt girl bloke ur age eg girl zoe 18 8007 join chat                                                  \n",
            "want 2 lay tonight want real dog location send direct 2 ur mob join uks large dog network bt txte gravel 69888 not ec2a 31pmsg150p                                                  \n",
            "try reply sms video mobile 750 min unlimited text free camcorder reply 08000930705 del thur                                                  \n",
            "free entry 2 wkly comp win fa cup final tkts 21st 2005 text fa 87121 receive entry questionstd txt ratetcs apply 08452810075over18s                                                  \n",
            "urgent mobile win 2000 bonus caller prize 020603 2nd attempt reach 09066362220 asap box97n7qp 150ppm                                                  \n",
            "value customer pleased advise follow recent review mob award 1500 bonus prize 09066364589                                                  \n",
            "santa call little one like santa xmas eve 09058094583 book time                                                  \n",
            "urgent try contact u today draw show win 800 prize guarantee 09050003091 land line claim c52 valid12hrs                                                  \n",
            "hello orange 1 month free access game news sport plus 10 free text 20 photo message reply yes term apply wwworangecoukow                                                  \n",
            "freemsgfeelin kinda lnly hope u like 2 company jst get cam moby wanna c pictxt reply date 82242 msg150p 2rcv hlp 08712317606 stop 82242                                                  \n",
            "winner u specially select 2 receive 1000 cash 4 holiday flight inc speak live operator 2 claim 0871277810810                                                  \n",
            "contact date service know find land line 09050000928 pobox45w2tg150p                                                  \n",
            "urgent mobile number award 2000 prize guarantee 09061790121 land line claim 3030 valid 12hrs 150ppm                                                  \n",
            "welcome select o2 service add benefit specially train advisor free mobile dial 402                                                  \n",
            "hello darling today love chat not tell look like sexy                                                  \n",
            "talk sexy new friend fall love world discreet text date service text vip 83110 meet                                                  \n",
            "dear voucher holder 2 claim 1st class airport lounge pass holiday voucher 08704439680 book quote 1st class x 2                                                  \n",
            "want funk ur fone weekly new tone reply tones2u 2 text wwwringtonescouk original n good tone 3gbp network operator rate apply                                                  \n",
            "u r subscribe 2 textcomp 250 wkly comp 1st wks free question follow subsequent wks charged150pmsg2 unsubscribe txt stop 2 84128custcare 08712405020                                                  \n",
            "free2day sexy st georges day pic jordantxt pic 89080 not miss wk saucy celeb4 pic c pocketbabecouk 0870241182716 3wk                                                  \n",
            "interflora late order interflora flower christmas 0800 505060 place order midnight tomorrow                                                  \n",
            "chance claim ur 150 worth discount voucher today text shop 85023 savamob offer mobile t cs savamob pobox84 m263uz 300 sub 16                                                  \n",
            "hmv bonus special 500 pound genuine hmv voucher win answer 4 easy question play send hmv 86688 infowww100percentrealcom                                                  \n",
            "free 1st week no1 nokia tone 4 ur mobile week txt nokia 8077 txting tell ur mate wwwgetzedcouk pobox 36504 w45wq 16 norm150ptone                                                  \n",
            "spook mob halloween collection logo pic message plus free eerie tone txt card spook 8007 ze 08701417012150p logopic                                                  \n",
            "25p 4 alfie moon child need song ur mob tell ur m8s txt tone charity 8007 nokias poly charity polys ze 08701417012 profit 2 charity                                                  \n",
            "wamma laidwant real doggin location send direct mobile join uks large dog network txt dog 69696 nownyt ec2a 3lp 150msg                                                  \n",
            "want new nokia 3510i colour phone deliveredtomorrow 300 free minute mobile 100 free text free camcorder reply 08000930705                                                  \n",
            "free2day sexy st georges day pic jordantxt pic 89080 not miss wk saucy celeb4 pic c pocketbabecouk 0870241182716 3wk                                                  \n",
            "good luck draw take place 28th feb 06 good luck removal send stop 87239 customer service 08708034412                                                  \n",
            "auction round 4 high bid 54 maximum bid 71 bid send bid e g 10 bid 10 83383 good luck                                                  \n",
            "gent try contact weekend draw show win 1000 prize guarantee 09064012160 claim code k52 valid 12hrs 150ppm                                                  \n",
            "pdate_now double min 1000 txt orange tariff late motorola sonyericsson nokia bluetooth free mobileupd8 08000839402 call2optoutyhl                                                  \n",
            "u win nokia 6230 plus free digital camera u u win free auction send nokia 83383 pobox11414tcrw1 16                                                  \n",
            "dear voucher holder claim week offer pc httpwwwwtlpcouktext tsc apply                                                  \n",
            "08714712388 10am7pm cost 10p                                                  \n",
            "private 2004 account statement 07742676969 show 786 unredeemed bonus point claim 08719180248 identifier code 45239 expire                                                  \n",
            "u know ask date service 2 contact not guess 09058095107 reveal pobox 7 s3xy 150p                                                  \n",
            "ur chance win 250 wkly shopping spree txt shop 80878 tsc wwwtxt2shopcom custcare 08715705022 1x150pwk                                                  \n",
            "hi ur lookin 4 saucy daytime fun wiv busty married woman free week chat 2 sort time 09099726429 janinexx calls1minmobsmorelkpobox177hp51fl                                                  \n",
            "sunshine hol claim ur med holiday send stamp self address envelope drink uk po box 113 bray wicklow eire quiz start saturday unsub stop                                                  \n",
            "urgent 09066350750 landline complimentary 4 ibiza holiday 10000 cash await collection sae tcs po box 434 sk3 8wp 150 ppm 18                                                  \n",
            "boltblue tone 150p reply poly mono eg poly3 1 cha cha slide 2 yeah 3 slow jamz 6 toxic 8 come stop 4 tone txt                                                  \n",
            "83039 62735450 uk break accommodationvoucher term condition apply 2 claim mustprovide claim number 15541                                                  \n",
            "record indicate u maybe entitle 5000 pound compensation accident claim 4 free reply claim msg 2 stop txt stop                                                  \n",
            "guarantee late nokia phone 40 gb ipod mp3 player 500 prize txt word collect 83355 ibhltd ldnw15h 150pmtmsgrcvd18                                                  \n",
            "weekly coolmob tone ready download week new tone include 1 crazy frogaxel f 2 akonlonely 3 black eyeddont p info n                                                  \n",
            "u meet ur dream partner soon ur career 2 flyng start 2 find free txt horo follow ur star sign e g horo arie                                                  \n",
            "win 200 shopping spree week start 2 play text store 88039 skilgme tscs08714740323 1winawk age16 150perweeksub                                                  \n",
            "not know u u not know send chat 86688 let find 150pmsg rcvd hgsuite3422landsroww1j6hl ldn 18 year                                                  \n",
            "sm ac sptv new jersey devil detroit red wing play ice hockey correct incorrect end reply end sptv                                                  \n",
            "like xxx pic hot nearly ban uk                                                  \n",
            "ringtone club gr8 new poly direct mobile week                                                  \n",
            "123 congratulation week competition draw u win 1450 prize claim 09050002311 b4280703 tcsstop sm 08718727868 18 150ppm                                                  \n",
            "message important information o2 user today lucky day 2 find log httpwwwurawinnercom fantastic surprise await                                                  \n",
            "promotion number 8714714 ur award city break win 200 summer shopping spree wk txt store 88039 skilgme tscs087147403231winawkage16 150perwksub                                                  \n",
            "ask 3mobile 0870 chatline inclu free min india cust servs se yes l8er get mega bill 3 not giv shit bailiff day o 250 3 want 800                                                  \n",
            "unique user d 1172 removal send stop 87239 customer service 08708034412                                                  \n",
            "eerie nokia tone 4u rply tone title 8007 eg tone dracula 8007 title ghost addamsfa munster exorcist twilight wwwgetzedcouk pobox36504w45wq 150p                                                  \n",
            "private 2003 account statement 07815296484 show 800 unredeemed sim point 08718738001 identifier code 41782 expire 181104                                                  \n",
            "sunshine quiz win super sony dvd recorder canname capital australia text mquiz 82277 b                                                  \n",
            "win guarantee 1000 cash 2000 prize claim yr prize customer service representative 08714712412 10am7pm cost 10p                                                  \n",
            "want new video phone750 anytime network min 150 text pound week 08000776320 reply delivery tomorrow                                                  \n",
            "garden ready summer free selection summer bulb seed worth 3350 scotsman saturday stop go2 notxtcouk                                                  \n",
            "freemsgfav xmas tonesreply real                                                  \n",
            "urgent 2nd attempt contact u 900 prize yesterday await collection claim 09061702893 acl03530150pm                                                  \n",
            "2nd time try contact u u win 1450 prize claim 09053750005 b4 310303 tcsstop sms 08718725756 140ppm                                                  \n",
            "dear voucher holder 2 claim 1st class airport lounge pass holiday voucher 08704439680 book quote 1st class x 2                                                  \n",
            "late news police station toilet steal cop                                                  \n",
            "upgrdcentre orange customer claim free camera phone upgrade loyalty 0207 153 9153 offer end 26th july tcs apply optout available                                                  \n",
            "winner value network customer hvae select receive 900 reward collect 09061701444 valid 24 hour acl03530150pm                                                  \n",
            "valentine day special win 1000 quiz partner trip lifetime send 83600 150pmsg rcvd custcare08718720201                                                  \n"
          ]
        }
      ]
    },
    {
      "cell_type": "markdown",
      "source": [
        "### **Sample Test**"
      ],
      "metadata": {
        "id": "asXQNrdg-WX4"
      }
    },
    {
      "cell_type": "code",
      "source": [
        "preprocessed_texts = [preprocess_text(text, nlp) for text in generated_texts]"
      ],
      "metadata": {
        "id": "5dpHFIGcQ9FN"
      },
      "execution_count": 34,
      "outputs": []
    },
    {
      "cell_type": "code",
      "source": [
        "text_features = vectorizer.transform(preprocessed_texts)"
      ],
      "metadata": {
        "id": "7DGm90f0hwf3"
      },
      "execution_count": 35,
      "outputs": []
    },
    {
      "cell_type": "code",
      "source": [
        "text_features.shape"
      ],
      "metadata": {
        "colab": {
          "base_uri": "https://localhost:8080/"
        },
        "id": "i0Om5rEZbfZV",
        "outputId": "bcc12ee8-7b2d-4299-8ab4-1fd5b0eab9db"
      },
      "execution_count": 38,
      "outputs": [
        {
          "output_type": "execute_result",
          "data": {
            "text/plain": [
              "(100, 2676)"
            ]
          },
          "metadata": {},
          "execution_count": 38
        }
      ]
    },
    {
      "cell_type": "code",
      "source": [
        "# Assuming svm_predictions is the output from model.predict()\n",
        "svm_predictions = model_svm.predict(text_features)\n",
        "\n",
        "# Convert numpy array to pandas Series\n",
        "svm_predictions_series = pd.Series(svm_predictions)\n",
        "\n",
        "# Map 'ham' to 0 and 'spam' to 1\n",
        "svm_predictions_mapped = svm_predictions_series.map({'ham': 0, 'spam': 1}).astype(int)\n"
      ],
      "metadata": {
        "id": "-31ZHIuG0sfO"
      },
      "execution_count": 42,
      "outputs": []
    },
    {
      "cell_type": "code",
      "source": [
        "# Convert the generated text into a sequence\n",
        "sequences_generated = tokenizer.texts_to_sequences(preprocessed_texts)\n",
        "X_generated_lstm = pad_sequences(sequences_generated, maxlen=2676, padding='post')\n",
        "X_generated_lstm = np.expand_dims(X_generated_lstm, axis=1)"
      ],
      "metadata": {
        "id": "2wtinJTB1F7W"
      },
      "execution_count": 67,
      "outputs": []
    },
    {
      "cell_type": "code",
      "source": [
        "# Prediction\n",
        "lstm_predictions = model_tfidf.predict(X_generated_lstm)\n",
        "lstm_predictions = (lstm_predictions > 0.5).astype(int) # Convert probabilities to class labels"
      ],
      "metadata": {
        "colab": {
          "base_uri": "https://localhost:8080/"
        },
        "id": "EWaXNVAT6wiz",
        "outputId": "82f7ac9e-5814-4700-fb15-79a5849fada6"
      },
      "execution_count": 68,
      "outputs": [
        {
          "output_type": "stream",
          "name": "stdout",
          "text": [
            "4/4 [==============================] - 0s 14ms/step\n"
          ]
        }
      ]
    },
    {
      "cell_type": "code",
      "source": [
        "from sklearn.metrics import classification_report\n",
        "\n",
        "# True labels, assuming all generated samples are spam emails\n",
        "true_labels = [1] * 100  # 1 represents spam emails\n",
        "\n",
        "# Generate reports\n",
        "print(\"SVM Model Performance on Generated Texts:\")\n",
        "print(classification_report(true_labels, svm_predictions_mapped))\n",
        "\n",
        "print(\"LSTM Model Performance on Generated Texts:\")\n",
        "print(classification_report(true_labels, lstm_predictions))\n"
      ],
      "metadata": {
        "colab": {
          "base_uri": "https://localhost:8080/"
        },
        "id": "qC165fOa1JkH",
        "outputId": "410d8b7e-f3fa-431f-c3bc-24ce2e30d51a"
      },
      "execution_count": 69,
      "outputs": [
        {
          "output_type": "stream",
          "name": "stdout",
          "text": [
            "SVM Model Performance on Generated Texts:\n",
            "              precision    recall  f1-score   support\n",
            "\n",
            "           0       0.00      0.00      0.00         0\n",
            "           1       1.00      0.95      0.97       100\n",
            "\n",
            "    accuracy                           0.95       100\n",
            "   macro avg       0.50      0.47      0.49       100\n",
            "weighted avg       1.00      0.95      0.97       100\n",
            "\n",
            "LSTM Model Performance on Generated Texts:\n",
            "              precision    recall  f1-score   support\n",
            "\n",
            "           1       1.00      1.00      1.00       100\n",
            "\n",
            "    accuracy                           1.00       100\n",
            "   macro avg       1.00      1.00      1.00       100\n",
            "weighted avg       1.00      1.00      1.00       100\n",
            "\n"
          ]
        },
        {
          "output_type": "stream",
          "name": "stderr",
          "text": [
            "/usr/local/lib/python3.10/dist-packages/sklearn/metrics/_classification.py:1344: UndefinedMetricWarning: Recall and F-score are ill-defined and being set to 0.0 in labels with no true samples. Use `zero_division` parameter to control this behavior.\n",
            "  _warn_prf(average, modifier, msg_start, len(result))\n",
            "/usr/local/lib/python3.10/dist-packages/sklearn/metrics/_classification.py:1344: UndefinedMetricWarning: Recall and F-score are ill-defined and being set to 0.0 in labels with no true samples. Use `zero_division` parameter to control this behavior.\n",
            "  _warn_prf(average, modifier, msg_start, len(result))\n",
            "/usr/local/lib/python3.10/dist-packages/sklearn/metrics/_classification.py:1344: UndefinedMetricWarning: Recall and F-score are ill-defined and being set to 0.0 in labels with no true samples. Use `zero_division` parameter to control this behavior.\n",
            "  _warn_prf(average, modifier, msg_start, len(result))\n"
          ]
        }
      ]
    }
  ]
}